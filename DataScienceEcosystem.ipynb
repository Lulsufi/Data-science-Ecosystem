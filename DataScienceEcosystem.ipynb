{
 "cells": [
  {
   "cell_type": "markdown",
   "id": "273c0190-8077-4dfc-9d70-d906ca8a8d7a",
   "metadata": {},
   "source": [
    "#  Data Science Tools and Ecosystem"
   ]
  },
  {
   "cell_type": "markdown",
   "id": "a0e185a5-4d80-4348-8414-6d801d7ede29",
   "metadata": {},
   "source": [
    "In this notebook, Data Science Tools and Ecosystem are summarized"
   ]
  },
  {
   "cell_type": "markdown",
   "id": "b6cedfa8-7e40-409e-9094-2afd3a1d7172",
   "metadata": {},
   "source": [
    "__Objectives:__\n",
    "- List popular languages for Data Science\n",
    "- List popular libraries for data science\n",
    "- Make a table that has data science tools\n",
    "- Multipy then add integers"
   ]
  },
  {
   "cell_type": "markdown",
   "id": "8e57678a-754c-4447-8510-d66c63b73c90",
   "metadata": {},
   "source": [
    "Some of the popular languages that Data Scientists use are:\n",
    "1. Python\n",
    "2. R\n",
    "3. SQL"
   ]
  },
  {
   "cell_type": "markdown",
   "id": "5f120c42-bbef-41af-af9c-e7efbfd0c5e7",
   "metadata": {},
   "source": [
    "Some of the commonly used libraries used by Data Scientists include:\n",
    "1. Pandas\n",
    "2. Numpy\n",
    "3. Scipy "
   ]
  },
  {
   "cell_type": "markdown",
   "id": "72d984e7-3f95-4e8f-a4bf-8d3bb9408775",
   "metadata": {},
   "source": [
    "| Data Science     |\n",
    "| ------------     |\n",
    "| Apache Zappelin |\n",
    "| Rstudio          |\n",
    "| Jupyter Notebook  |"
   ]
  },
  {
   "cell_type": "markdown",
   "id": "8e1bdfcb-291b-476b-8742-d0f32ba62f20",
   "metadata": {},
   "source": [
    "### Below are a few examples of evaluating arithmetic expressions in Python"
   ]
  },
  {
   "cell_type": "code",
   "execution_count": 3,
   "id": "ce0c8688-d0a1-4438-8500-c6eb5c2e22b3",
   "metadata": {},
   "outputs": [
    {
     "data": {
      "text/plain": [
       "17"
      ]
     },
     "execution_count": 3,
     "metadata": {},
     "output_type": "execute_result"
    }
   ],
   "source": [
    "# This is a simple arithmetic expression to multiply then add\n",
    "(3*4)+5"
   ]
  },
  {
   "cell_type": "code",
   "execution_count": 6,
   "id": "05463504-31fe-4263-b5a4-6df06dec275c",
   "metadata": {},
   "outputs": [
    {
     "name": "stdout",
     "output_type": "stream",
     "text": [
      "200 minutes is equal to 3.3333333333333335 hours.\n"
     ]
    }
   ],
   "source": [
    "#  This will convert 200 minutes to hours by diving by 60\n",
    "def minutes_to_hours(minutes):\n",
    "    hours = minutes / 60\n",
    "    return hours\n",
    "\n",
    "# Convert 200 minutes to hours\n",
    "minutes = 200\n",
    "hours = minutes_to_hours(minutes)\n",
    "print(f\"{minutes} minutes is equal to {hours} hours.\")"
   ]
  },
  {
   "cell_type": "markdown",
   "id": "f9b231f1-3e8e-464a-bc86-e82c8709c4ac",
   "metadata": {},
   "source": [
    "## Author\n",
    "Lul Sufi"
   ]
  }
 ],
 "metadata": {
  "kernelspec": {
   "display_name": "Python 3 (ipykernel)",
   "language": "python",
   "name": "python3"
  },
  "language_info": {
   "codemirror_mode": {
    "name": "ipython",
    "version": 3
   },
   "file_extension": ".py",
   "mimetype": "text/x-python",
   "name": "python",
   "nbconvert_exporter": "python",
   "pygments_lexer": "ipython3",
   "version": "3.11.7"
  }
 },
 "nbformat": 4,
 "nbformat_minor": 5
}
